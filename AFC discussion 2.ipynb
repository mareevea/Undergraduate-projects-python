{
 "cells": [
  {
   "cell_type": "code",
   "execution_count": 5,
   "id": "c476b02a",
   "metadata": {},
   "outputs": [],
   "source": [
    "import pandas as pd"
   ]
  },
  {
   "cell_type": "code",
   "execution_count": 6,
   "id": "a7e742d1",
   "metadata": {},
   "outputs": [],
   "source": [
    "netflix_data = pd.read_csv(\"NetflixViewingHistory.csv\")"
   ]
  },
  {
   "cell_type": "code",
   "execution_count": 5,
   "id": "4c42e4c0",
   "metadata": {},
   "outputs": [
    {
     "data": {
      "text/html": [
       "<div>\n",
       "<style scoped>\n",
       "    .dataframe tbody tr th:only-of-type {\n",
       "        vertical-align: middle;\n",
       "    }\n",
       "\n",
       "    .dataframe tbody tr th {\n",
       "        vertical-align: top;\n",
       "    }\n",
       "\n",
       "    .dataframe thead th {\n",
       "        text-align: right;\n",
       "    }\n",
       "</style>\n",
       "<table border=\"1\" class=\"dataframe\">\n",
       "  <thead>\n",
       "    <tr style=\"text-align: right;\">\n",
       "      <th></th>\n",
       "      <th>Title</th>\n",
       "      <th>Date</th>\n",
       "    </tr>\n",
       "  </thead>\n",
       "  <tbody>\n",
       "    <tr>\n",
       "      <th>0</th>\n",
       "      <td>Russian Doll: Season 2: Station to Station</td>\n",
       "      <td>5/4/22</td>\n",
       "    </tr>\n",
       "    <tr>\n",
       "      <th>1</th>\n",
       "      <td>Russian Doll: Season 2: Brain Drain</td>\n",
       "      <td>5/3/22</td>\n",
       "    </tr>\n",
       "    <tr>\n",
       "      <th>2</th>\n",
       "      <td>Russian Doll: Season 2: Coney Island Baby</td>\n",
       "      <td>4/26/22</td>\n",
       "    </tr>\n",
       "    <tr>\n",
       "      <th>3</th>\n",
       "      <td>Russian Doll: Season 2: Nowhen</td>\n",
       "      <td>4/26/22</td>\n",
       "    </tr>\n",
       "    <tr>\n",
       "      <th>4</th>\n",
       "      <td>Eternally Confused and Eager for Love: Season ...</td>\n",
       "      <td>4/10/22</td>\n",
       "    </tr>\n",
       "    <tr>\n",
       "      <th>...</th>\n",
       "      <td>...</td>\n",
       "      <td>...</td>\n",
       "    </tr>\n",
       "    <tr>\n",
       "      <th>1967</th>\n",
       "      <td>The OA: Part I: Chapter 4: Away</td>\n",
       "      <td>12/22/16</td>\n",
       "    </tr>\n",
       "    <tr>\n",
       "      <th>1968</th>\n",
       "      <td>The OA: Part I: Chapter 3: Champion</td>\n",
       "      <td>12/22/16</td>\n",
       "    </tr>\n",
       "    <tr>\n",
       "      <th>1969</th>\n",
       "      <td>The OA: Part I: Chapter 2: New Colossus</td>\n",
       "      <td>12/22/16</td>\n",
       "    </tr>\n",
       "    <tr>\n",
       "      <th>1970</th>\n",
       "      <td>The OA: Part I: Chapter 1: Homecoming</td>\n",
       "      <td>12/22/16</td>\n",
       "    </tr>\n",
       "    <tr>\n",
       "      <th>1971</th>\n",
       "      <td>The Imitation Game</td>\n",
       "      <td>12/21/16</td>\n",
       "    </tr>\n",
       "  </tbody>\n",
       "</table>\n",
       "<p>1972 rows × 2 columns</p>\n",
       "</div>"
      ],
      "text/plain": [
       "                                                  Title      Date\n",
       "0            Russian Doll: Season 2: Station to Station    5/4/22\n",
       "1                   Russian Doll: Season 2: Brain Drain    5/3/22\n",
       "2             Russian Doll: Season 2: Coney Island Baby   4/26/22\n",
       "3                        Russian Doll: Season 2: Nowhen   4/26/22\n",
       "4     Eternally Confused and Eager for Love: Season ...   4/10/22\n",
       "...                                                 ...       ...\n",
       "1967                    The OA: Part I: Chapter 4: Away  12/22/16\n",
       "1968                The OA: Part I: Chapter 3: Champion  12/22/16\n",
       "1969            The OA: Part I: Chapter 2: New Colossus  12/22/16\n",
       "1970              The OA: Part I: Chapter 1: Homecoming  12/22/16\n",
       "1971                                 The Imitation Game  12/21/16\n",
       "\n",
       "[1972 rows x 2 columns]"
      ]
     },
     "execution_count": 5,
     "metadata": {},
     "output_type": "execute_result"
    }
   ],
   "source": [
    "#take a look at data frame\n",
    "netflix_data\n"
   ]
  },
  {
   "cell_type": "code",
   "execution_count": 8,
   "id": "4fa8adc0",
   "metadata": {},
   "outputs": [
    {
     "data": {
      "text/plain": [
       "1972"
      ]
     },
     "execution_count": 8,
     "metadata": {},
     "output_type": "execute_result"
    }
   ],
   "source": [
    "# 1 how many entries (rows)\n",
    "len(netflix_data)"
   ]
  },
  {
   "cell_type": "code",
   "execution_count": 8,
   "id": "7f73d31a",
   "metadata": {},
   "outputs": [
    {
     "data": {
      "text/plain": [
       "(1972, 2)"
      ]
     },
     "execution_count": 8,
     "metadata": {},
     "output_type": "execute_result"
    }
   ],
   "source": [
    "# rows and columns\n",
    "netflix_data.shape"
   ]
  },
  {
   "cell_type": "code",
   "execution_count": 9,
   "id": "7528058f",
   "metadata": {},
   "outputs": [
    {
     "data": {
      "text/plain": [
       "1972"
      ]
     },
     "execution_count": 9,
     "metadata": {},
     "output_type": "execute_result"
    }
   ],
   "source": [
    "netflix_data.shape[0]"
   ]
  },
  {
   "cell_type": "code",
   "execution_count": 10,
   "id": "05b71e47",
   "metadata": {},
   "outputs": [
    {
     "data": {
      "text/plain": [
       "2"
      ]
     },
     "execution_count": 10,
     "metadata": {},
     "output_type": "execute_result"
    }
   ],
   "source": [
    "netflix_data.shape[1]"
   ]
  },
  {
   "cell_type": "code",
   "execution_count": 9,
   "id": "a6c4d30c",
   "metadata": {},
   "outputs": [
    {
     "data": {
      "text/plain": [
       "0              Russian Doll: Season 2: Station to Station\n",
       "1                     Russian Doll: Season 2: Brain Drain\n",
       "2               Russian Doll: Season 2: Coney Island Baby\n",
       "3                          Russian Doll: Season 2: Nowhen\n",
       "4       Eternally Confused and Eager for Love: Season ...\n",
       "                              ...                        \n",
       "1967                      The OA: Part I: Chapter 4: Away\n",
       "1968                  The OA: Part I: Chapter 3: Champion\n",
       "1969              The OA: Part I: Chapter 2: New Colossus\n",
       "1970                The OA: Part I: Chapter 1: Homecoming\n",
       "1971                                   The Imitation Game\n",
       "Name: Title, Length: 1972, dtype: object"
      ]
     },
     "execution_count": 9,
     "metadata": {},
     "output_type": "execute_result"
    }
   ],
   "source": [
    "# 2 how many times I watched Grey's anatomy\n",
    "\n",
    "#STEP 1: GET TITLES\n",
    "\n",
    "netflix_data [\"Title\"]"
   ]
  },
  {
   "cell_type": "code",
   "execution_count": 12,
   "id": "12f85b89",
   "metadata": {},
   "outputs": [
    {
     "data": {
      "text/plain": [
       "0       False\n",
       "1       False\n",
       "2       False\n",
       "3       False\n",
       "4       False\n",
       "        ...  \n",
       "1967    False\n",
       "1968    False\n",
       "1969    False\n",
       "1970    False\n",
       "1971    False\n",
       "Name: Title, Length: 1972, dtype: bool"
      ]
     },
     "execution_count": 12,
     "metadata": {},
     "output_type": "execute_result"
    }
   ],
   "source": [
    "#STEP 2: Use .apply() to determine whether the title contains Grey's Anatomy\n",
    "netflix_data [\"Title\"].apply(lambda title: \"Grey's Anatomy\" in title)"
   ]
  },
  {
   "cell_type": "code",
   "execution_count": 13,
   "id": "5f4b3500",
   "metadata": {},
   "outputs": [
    {
     "data": {
      "text/plain": [
       "67"
      ]
     },
     "execution_count": 13,
     "metadata": {},
     "output_type": "execute_result"
    }
   ],
   "source": [
    "#STEP 3: sum up how many titles have the keyword\n",
    "netflix_data [\"Title\"].apply(lambda title: \"Grey's Anatomy\" in title).sum()"
   ]
  },
  {
   "cell_type": "code",
   "execution_count": 16,
   "id": "c6ba95df",
   "metadata": {},
   "outputs": [
    {
     "data": {
      "text/html": [
       "<div>\n",
       "<style scoped>\n",
       "    .dataframe tbody tr th:only-of-type {\n",
       "        vertical-align: middle;\n",
       "    }\n",
       "\n",
       "    .dataframe tbody tr th {\n",
       "        vertical-align: top;\n",
       "    }\n",
       "\n",
       "    .dataframe thead th {\n",
       "        text-align: right;\n",
       "    }\n",
       "</style>\n",
       "<table border=\"1\" class=\"dataframe\">\n",
       "  <thead>\n",
       "    <tr style=\"text-align: right;\">\n",
       "      <th></th>\n",
       "      <th>Title</th>\n",
       "      <th>Date</th>\n",
       "    </tr>\n",
       "  </thead>\n",
       "  <tbody>\n",
       "    <tr>\n",
       "      <th>406</th>\n",
       "      <td>Grey's Anatomy: Season 15: The Winner Takes It...</td>\n",
       "      <td>2/13/21</td>\n",
       "    </tr>\n",
       "    <tr>\n",
       "      <th>407</th>\n",
       "      <td>Grey's Anatomy: Season 15: Help, I'm Alive</td>\n",
       "      <td>2/13/21</td>\n",
       "    </tr>\n",
       "    <tr>\n",
       "      <th>590</th>\n",
       "      <td>Grey's Anatomy: Season 16: Put on a Happy Face</td>\n",
       "      <td>5/26/20</td>\n",
       "    </tr>\n",
       "    <tr>\n",
       "      <th>594</th>\n",
       "      <td>Grey's Anatomy: Season 16: Sing It Again</td>\n",
       "      <td>5/21/20</td>\n",
       "    </tr>\n",
       "    <tr>\n",
       "      <th>595</th>\n",
       "      <td>Grey's Anatomy: Season 16: Love of My Life</td>\n",
       "      <td>5/21/20</td>\n",
       "    </tr>\n",
       "    <tr>\n",
       "      <th>...</th>\n",
       "      <td>...</td>\n",
       "      <td>...</td>\n",
       "    </tr>\n",
       "    <tr>\n",
       "      <th>1306</th>\n",
       "      <td>Grey's Anatomy: Season 1: A Hard Day's Night</td>\n",
       "      <td>4/8/19</td>\n",
       "    </tr>\n",
       "    <tr>\n",
       "      <th>1631</th>\n",
       "      <td>Grey's Anatomy: Season 14: All of Me</td>\n",
       "      <td>8/20/18</td>\n",
       "    </tr>\n",
       "    <tr>\n",
       "      <th>1632</th>\n",
       "      <td>Grey's Anatomy: Season 14: Cold as Ice</td>\n",
       "      <td>8/20/18</td>\n",
       "    </tr>\n",
       "    <tr>\n",
       "      <th>1633</th>\n",
       "      <td>Grey's Anatomy: Season 14: Fight for Your Mind</td>\n",
       "      <td>8/20/18</td>\n",
       "    </tr>\n",
       "    <tr>\n",
       "      <th>1634</th>\n",
       "      <td>Grey's Anatomy: Season 14: Bad Reputation</td>\n",
       "      <td>8/20/18</td>\n",
       "    </tr>\n",
       "  </tbody>\n",
       "</table>\n",
       "<p>67 rows × 2 columns</p>\n",
       "</div>"
      ],
      "text/plain": [
       "                                                  Title     Date\n",
       "406   Grey's Anatomy: Season 15: The Winner Takes It...  2/13/21\n",
       "407          Grey's Anatomy: Season 15: Help, I'm Alive  2/13/21\n",
       "590      Grey's Anatomy: Season 16: Put on a Happy Face  5/26/20\n",
       "594            Grey's Anatomy: Season 16: Sing It Again  5/21/20\n",
       "595          Grey's Anatomy: Season 16: Love of My Life  5/21/20\n",
       "...                                                 ...      ...\n",
       "1306       Grey's Anatomy: Season 1: A Hard Day's Night   4/8/19\n",
       "1631               Grey's Anatomy: Season 14: All of Me  8/20/18\n",
       "1632             Grey's Anatomy: Season 14: Cold as Ice  8/20/18\n",
       "1633     Grey's Anatomy: Season 14: Fight for Your Mind  8/20/18\n",
       "1634          Grey's Anatomy: Season 14: Bad Reputation  8/20/18\n",
       "\n",
       "[67 rows x 2 columns]"
      ]
     },
     "execution_count": 16,
     "metadata": {},
     "output_type": "execute_result"
    }
   ],
   "source": [
    "# 3 which episodes of Grey's Anatomy did I watch?\n",
    " #STEP 1 : Use .loc()\n",
    " #First argument passed into loc specifies which rows to select\n",
    " #Second argument into loc specifies which columns to select\n",
    "    \n",
    "netflix_data.loc[[\"Grey's Anatomy\" in title for title in netflix_data[\"Title\"]], :]"
   ]
  },
  {
   "cell_type": "code",
   "execution_count": 20,
   "id": "0fd7d32a",
   "metadata": {},
   "outputs": [
    {
     "data": {
      "text/plain": [
       "406     Grey's Anatomy: Season 15: The Winner Takes It...\n",
       "407            Grey's Anatomy: Season 15: Help, I'm Alive\n",
       "590        Grey's Anatomy: Season 16: Put on a Happy Face\n",
       "594              Grey's Anatomy: Season 16: Sing It Again\n",
       "595            Grey's Anatomy: Season 16: Love of My Life\n",
       "                              ...                        \n",
       "1306         Grey's Anatomy: Season 1: A Hard Day's Night\n",
       "1631                 Grey's Anatomy: Season 14: All of Me\n",
       "1632               Grey's Anatomy: Season 14: Cold as Ice\n",
       "1633       Grey's Anatomy: Season 14: Fight for Your Mind\n",
       "1634            Grey's Anatomy: Season 14: Bad Reputation\n",
       "Name: Title, Length: 67, dtype: object"
      ]
     },
     "execution_count": 20,
     "metadata": {},
     "output_type": "execute_result"
    }
   ],
   "source": [
    "netflix_data.loc[[\"Grey's Anatomy\" in title for title in netflix_data[\"Title\"]],\"Title\"]"
   ]
  },
  {
   "cell_type": "code",
   "execution_count": null,
   "id": "59da2e61",
   "metadata": {},
   "outputs": [],
   "source": [
    "# 4 On what date did I finish watching \"Kim's Convenience\" in th title?\n",
    "\n",
    "#STEP 1: Zoom in on entries containing \"Kim's Convenience\" in title\n",
    "#STEP 2: Sort by date\n",
    "#STEP 3: Get jus dates\n",
    "#STEP 4: Using iloc[] get latest dates\n",
    "\n"
   ]
  },
  {
   "cell_type": "code",
   "execution_count": 21,
   "id": "63b7009b",
   "metadata": {},
   "outputs": [
    {
     "data": {
      "text/html": [
       "<div>\n",
       "<style scoped>\n",
       "    .dataframe tbody tr th:only-of-type {\n",
       "        vertical-align: middle;\n",
       "    }\n",
       "\n",
       "    .dataframe tbody tr th {\n",
       "        vertical-align: top;\n",
       "    }\n",
       "\n",
       "    .dataframe thead th {\n",
       "        text-align: right;\n",
       "    }\n",
       "</style>\n",
       "<table border=\"1\" class=\"dataframe\">\n",
       "  <thead>\n",
       "    <tr style=\"text-align: right;\">\n",
       "      <th></th>\n",
       "      <th>Title</th>\n",
       "      <th>Date</th>\n",
       "    </tr>\n",
       "  </thead>\n",
       "  <tbody>\n",
       "    <tr>\n",
       "      <th>359</th>\n",
       "      <td>Kim's Convenience: Season 5: Family Business</td>\n",
       "      <td>6/28/21</td>\n",
       "    </tr>\n",
       "    <tr>\n",
       "      <th>360</th>\n",
       "      <td>Kim's Convenience: Season 5: Hugs &amp; Prayers</td>\n",
       "      <td>6/28/21</td>\n",
       "    </tr>\n",
       "    <tr>\n",
       "      <th>361</th>\n",
       "      <td>Kim's Convenience: Season 5: Matchy Matchy</td>\n",
       "      <td>6/28/21</td>\n",
       "    </tr>\n",
       "    <tr>\n",
       "      <th>362</th>\n",
       "      <td>Kim's Convenience: Season 5: Who's Pranking Who?</td>\n",
       "      <td>6/28/21</td>\n",
       "    </tr>\n",
       "    <tr>\n",
       "      <th>363</th>\n",
       "      <td>Kim's Convenience: Season 5: Field of Schemes</td>\n",
       "      <td>6/28/21</td>\n",
       "    </tr>\n",
       "    <tr>\n",
       "      <th>...</th>\n",
       "      <td>...</td>\n",
       "      <td>...</td>\n",
       "    </tr>\n",
       "    <tr>\n",
       "      <th>1529</th>\n",
       "      <td>Kim's Convenience: Season 1: Wingman</td>\n",
       "      <td>11/19/18</td>\n",
       "    </tr>\n",
       "    <tr>\n",
       "      <th>1530</th>\n",
       "      <td>Kim's Convenience: Season 1: Frank &amp; Nayoung</td>\n",
       "      <td>11/19/18</td>\n",
       "    </tr>\n",
       "    <tr>\n",
       "      <th>1531</th>\n",
       "      <td>Kim's Convenience: Season 1: Ddong Chim</td>\n",
       "      <td>11/19/18</td>\n",
       "    </tr>\n",
       "    <tr>\n",
       "      <th>1532</th>\n",
       "      <td>Kim's Convenience: Season 1: Janet's Photos</td>\n",
       "      <td>11/19/18</td>\n",
       "    </tr>\n",
       "    <tr>\n",
       "      <th>1533</th>\n",
       "      <td>Kim's Convenience: Season 1: Gay Discount</td>\n",
       "      <td>11/19/18</td>\n",
       "    </tr>\n",
       "  </tbody>\n",
       "</table>\n",
       "<p>65 rows × 2 columns</p>\n",
       "</div>"
      ],
      "text/plain": [
       "                                                 Title      Date\n",
       "359       Kim's Convenience: Season 5: Family Business   6/28/21\n",
       "360        Kim's Convenience: Season 5: Hugs & Prayers   6/28/21\n",
       "361         Kim's Convenience: Season 5: Matchy Matchy   6/28/21\n",
       "362   Kim's Convenience: Season 5: Who's Pranking Who?   6/28/21\n",
       "363      Kim's Convenience: Season 5: Field of Schemes   6/28/21\n",
       "...                                                ...       ...\n",
       "1529              Kim's Convenience: Season 1: Wingman  11/19/18\n",
       "1530      Kim's Convenience: Season 1: Frank & Nayoung  11/19/18\n",
       "1531           Kim's Convenience: Season 1: Ddong Chim  11/19/18\n",
       "1532       Kim's Convenience: Season 1: Janet's Photos  11/19/18\n",
       "1533         Kim's Convenience: Season 1: Gay Discount  11/19/18\n",
       "\n",
       "[65 rows x 2 columns]"
      ]
     },
     "execution_count": 21,
     "metadata": {},
     "output_type": "execute_result"
    }
   ],
   "source": [
    "#step 1\n",
    "netflix_data.loc[[\"Kim's Convenience\" in title for title in netflix_data[\"Title\"]], :]\n"
   ]
  },
  {
   "cell_type": "code",
   "execution_count": 24,
   "id": "93a1f0ee",
   "metadata": {},
   "outputs": [
    {
     "data": {
      "text/html": [
       "<div>\n",
       "<style scoped>\n",
       "    .dataframe tbody tr th:only-of-type {\n",
       "        vertical-align: middle;\n",
       "    }\n",
       "\n",
       "    .dataframe tbody tr th {\n",
       "        vertical-align: top;\n",
       "    }\n",
       "\n",
       "    .dataframe thead th {\n",
       "        text-align: right;\n",
       "    }\n",
       "</style>\n",
       "<table border=\"1\" class=\"dataframe\">\n",
       "  <thead>\n",
       "    <tr style=\"text-align: right;\">\n",
       "      <th></th>\n",
       "      <th>Title</th>\n",
       "      <th>Date</th>\n",
       "    </tr>\n",
       "  </thead>\n",
       "  <tbody>\n",
       "    <tr>\n",
       "      <th>359</th>\n",
       "      <td>Kim's Convenience: Season 5: Family Business</td>\n",
       "      <td>6/28/21</td>\n",
       "    </tr>\n",
       "    <tr>\n",
       "      <th>360</th>\n",
       "      <td>Kim's Convenience: Season 5: Hugs &amp; Prayers</td>\n",
       "      <td>6/28/21</td>\n",
       "    </tr>\n",
       "    <tr>\n",
       "      <th>361</th>\n",
       "      <td>Kim's Convenience: Season 5: Matchy Matchy</td>\n",
       "      <td>6/28/21</td>\n",
       "    </tr>\n",
       "    <tr>\n",
       "      <th>362</th>\n",
       "      <td>Kim's Convenience: Season 5: Who's Pranking Who?</td>\n",
       "      <td>6/28/21</td>\n",
       "    </tr>\n",
       "    <tr>\n",
       "      <th>363</th>\n",
       "      <td>Kim's Convenience: Season 5: Field of Schemes</td>\n",
       "      <td>6/28/21</td>\n",
       "    </tr>\n",
       "    <tr>\n",
       "      <th>...</th>\n",
       "      <td>...</td>\n",
       "      <td>...</td>\n",
       "    </tr>\n",
       "    <tr>\n",
       "      <th>1529</th>\n",
       "      <td>Kim's Convenience: Season 1: Wingman</td>\n",
       "      <td>11/19/18</td>\n",
       "    </tr>\n",
       "    <tr>\n",
       "      <th>1530</th>\n",
       "      <td>Kim's Convenience: Season 1: Frank &amp; Nayoung</td>\n",
       "      <td>11/19/18</td>\n",
       "    </tr>\n",
       "    <tr>\n",
       "      <th>1531</th>\n",
       "      <td>Kim's Convenience: Season 1: Ddong Chim</td>\n",
       "      <td>11/19/18</td>\n",
       "    </tr>\n",
       "    <tr>\n",
       "      <th>1532</th>\n",
       "      <td>Kim's Convenience: Season 1: Janet's Photos</td>\n",
       "      <td>11/19/18</td>\n",
       "    </tr>\n",
       "    <tr>\n",
       "      <th>1533</th>\n",
       "      <td>Kim's Convenience: Season 1: Gay Discount</td>\n",
       "      <td>11/19/18</td>\n",
       "    </tr>\n",
       "  </tbody>\n",
       "</table>\n",
       "<p>65 rows × 2 columns</p>\n",
       "</div>"
      ],
      "text/plain": [
       "                                                 Title      Date\n",
       "359       Kim's Convenience: Season 5: Family Business   6/28/21\n",
       "360        Kim's Convenience: Season 5: Hugs & Prayers   6/28/21\n",
       "361         Kim's Convenience: Season 5: Matchy Matchy   6/28/21\n",
       "362   Kim's Convenience: Season 5: Who's Pranking Who?   6/28/21\n",
       "363      Kim's Convenience: Season 5: Field of Schemes   6/28/21\n",
       "...                                                ...       ...\n",
       "1529              Kim's Convenience: Season 1: Wingman  11/19/18\n",
       "1530      Kim's Convenience: Season 1: Frank & Nayoung  11/19/18\n",
       "1531           Kim's Convenience: Season 1: Ddong Chim  11/19/18\n",
       "1532       Kim's Convenience: Season 1: Janet's Photos  11/19/18\n",
       "1533         Kim's Convenience: Season 1: Gay Discount  11/19/18\n",
       "\n",
       "[65 rows x 2 columns]"
      ]
     },
     "execution_count": 24,
     "metadata": {},
     "output_type": "execute_result"
    }
   ],
   "source": [
    "#step 2\n",
    "# netflix_data.loc[[\"Kim's Convenience\" in title for title in netflix_data[\"Title\"]], \"Date\"]\n",
    "netflix_data.loc[[\"Kim's Convenience\" in title for title in netflix_data[\"Title\"]], :].sort_values(\"Date\",ascending=False)\n",
    "\n",
    "\n"
   ]
  },
  {
   "cell_type": "code",
   "execution_count": null,
   "id": "88a2939f",
   "metadata": {},
   "outputs": [],
   "source": []
  },
  {
   "cell_type": "code",
   "execution_count": 28,
   "id": "d280637c",
   "metadata": {},
   "outputs": [
    {
     "data": {
      "text/plain": [
       "'6/28/21'"
      ]
     },
     "execution_count": 28,
     "metadata": {},
     "output_type": "execute_result"
    }
   ],
   "source": [
    "#Step 4\n",
    "netflix_data.loc[[\"Kim's Convenience\" in title for title in netflix_data[\"Title\"]], :].sort_values(\"Date\",ascending=False)[\"Date\"].iloc[0]"
   ]
  },
  {
   "cell_type": "code",
   "execution_count": 31,
   "id": "2c78fb04",
   "metadata": {},
   "outputs": [
    {
     "data": {
      "text/plain": [
       "'6/28/21'"
      ]
     },
     "execution_count": 31,
     "metadata": {},
     "output_type": "execute_result"
    }
   ],
   "source": [
    "netflix_data.loc[[\"Kim's Convenience\" in title for title in netflix_data[\"Title\"]], :].sort_values(\"Date\")[\"Date\"].iloc[64\n",
    "                                                                                                                                       ]"
   ]
  },
  {
   "cell_type": "code",
   "execution_count": 32,
   "id": "8b088953",
   "metadata": {},
   "outputs": [
    {
     "data": {
      "text/plain": [
       "'6/28/21'"
      ]
     },
     "execution_count": 32,
     "metadata": {},
     "output_type": "execute_result"
    }
   ],
   "source": [
    "netflix_data.loc[[\"Kim's Convenience\" in title for title in netflix_data[\"Title\"]], :].sort_values(\"Date\",ascending=False)[\"Date\"][359]"
   ]
  },
  {
   "cell_type": "code",
   "execution_count": null,
   "id": "75db2f99",
   "metadata": {},
   "outputs": [],
   "source": [
    "# 5 Last episode of Kim's Convinience that I watched\n",
    "\n",
    "#First two steps  same as previous question\n",
    "#STEP 1:Zoom in on entries on Kim's Convinience in the title\n",
    "#STEP 2: Sort by date\n",
    "#STEP3: Just get titles\n",
    "#STEP 4: Get the latest title\n",
    "\n",
    "\n"
   ]
  },
  {
   "cell_type": "code",
   "execution_count": 33,
   "id": "9cae833c",
   "metadata": {},
   "outputs": [
    {
     "data": {
      "text/html": [
       "<div>\n",
       "<style scoped>\n",
       "    .dataframe tbody tr th:only-of-type {\n",
       "        vertical-align: middle;\n",
       "    }\n",
       "\n",
       "    .dataframe tbody tr th {\n",
       "        vertical-align: top;\n",
       "    }\n",
       "\n",
       "    .dataframe thead th {\n",
       "        text-align: right;\n",
       "    }\n",
       "</style>\n",
       "<table border=\"1\" class=\"dataframe\">\n",
       "  <thead>\n",
       "    <tr style=\"text-align: right;\">\n",
       "      <th></th>\n",
       "      <th>Title</th>\n",
       "      <th>Date</th>\n",
       "    </tr>\n",
       "  </thead>\n",
       "  <tbody>\n",
       "    <tr>\n",
       "      <th>359</th>\n",
       "      <td>Kim's Convenience: Season 5: Family Business</td>\n",
       "      <td>6/28/21</td>\n",
       "    </tr>\n",
       "    <tr>\n",
       "      <th>360</th>\n",
       "      <td>Kim's Convenience: Season 5: Hugs &amp; Prayers</td>\n",
       "      <td>6/28/21</td>\n",
       "    </tr>\n",
       "    <tr>\n",
       "      <th>361</th>\n",
       "      <td>Kim's Convenience: Season 5: Matchy Matchy</td>\n",
       "      <td>6/28/21</td>\n",
       "    </tr>\n",
       "    <tr>\n",
       "      <th>362</th>\n",
       "      <td>Kim's Convenience: Season 5: Who's Pranking Who?</td>\n",
       "      <td>6/28/21</td>\n",
       "    </tr>\n",
       "    <tr>\n",
       "      <th>363</th>\n",
       "      <td>Kim's Convenience: Season 5: Field of Schemes</td>\n",
       "      <td>6/28/21</td>\n",
       "    </tr>\n",
       "    <tr>\n",
       "      <th>...</th>\n",
       "      <td>...</td>\n",
       "      <td>...</td>\n",
       "    </tr>\n",
       "    <tr>\n",
       "      <th>1529</th>\n",
       "      <td>Kim's Convenience: Season 1: Wingman</td>\n",
       "      <td>11/19/18</td>\n",
       "    </tr>\n",
       "    <tr>\n",
       "      <th>1530</th>\n",
       "      <td>Kim's Convenience: Season 1: Frank &amp; Nayoung</td>\n",
       "      <td>11/19/18</td>\n",
       "    </tr>\n",
       "    <tr>\n",
       "      <th>1531</th>\n",
       "      <td>Kim's Convenience: Season 1: Ddong Chim</td>\n",
       "      <td>11/19/18</td>\n",
       "    </tr>\n",
       "    <tr>\n",
       "      <th>1532</th>\n",
       "      <td>Kim's Convenience: Season 1: Janet's Photos</td>\n",
       "      <td>11/19/18</td>\n",
       "    </tr>\n",
       "    <tr>\n",
       "      <th>1533</th>\n",
       "      <td>Kim's Convenience: Season 1: Gay Discount</td>\n",
       "      <td>11/19/18</td>\n",
       "    </tr>\n",
       "  </tbody>\n",
       "</table>\n",
       "<p>65 rows × 2 columns</p>\n",
       "</div>"
      ],
      "text/plain": [
       "                                                 Title      Date\n",
       "359       Kim's Convenience: Season 5: Family Business   6/28/21\n",
       "360        Kim's Convenience: Season 5: Hugs & Prayers   6/28/21\n",
       "361         Kim's Convenience: Season 5: Matchy Matchy   6/28/21\n",
       "362   Kim's Convenience: Season 5: Who's Pranking Who?   6/28/21\n",
       "363      Kim's Convenience: Season 5: Field of Schemes   6/28/21\n",
       "...                                                ...       ...\n",
       "1529              Kim's Convenience: Season 1: Wingman  11/19/18\n",
       "1530      Kim's Convenience: Season 1: Frank & Nayoung  11/19/18\n",
       "1531           Kim's Convenience: Season 1: Ddong Chim  11/19/18\n",
       "1532       Kim's Convenience: Season 1: Janet's Photos  11/19/18\n",
       "1533         Kim's Convenience: Season 1: Gay Discount  11/19/18\n",
       "\n",
       "[65 rows x 2 columns]"
      ]
     },
     "execution_count": 33,
     "metadata": {},
     "output_type": "execute_result"
    }
   ],
   "source": [
    "netflix_data.loc[[\"Kim's Convenience\" in title for title in netflix_data[\"Title\"]], :]"
   ]
  },
  {
   "cell_type": "code",
   "execution_count": 37,
   "id": "4d5347e2",
   "metadata": {},
   "outputs": [
    {
     "data": {
      "text/plain": [
       "\"Kim's Convenience: Season 5: Family Business\""
      ]
     },
     "execution_count": 37,
     "metadata": {},
     "output_type": "execute_result"
    }
   ],
   "source": [
    "netflix_data.loc[[\"Kim's Convenience\" in title for title in netflix_data[\"Title\"]], :].sort_values(\"Date\",ascending=False)[\"Title\"].iloc[0]"
   ]
  },
  {
   "cell_type": "code",
   "execution_count": null,
   "id": "70ad1ff4",
   "metadata": {},
   "outputs": [],
   "source": [
    "# 6 What percentage of my Netflix  viewing consists of watching shows and movies?\n",
    " #Assumptions\n",
    "    #2 main categories I watch is shows and movies\n",
    "    #Season and Shows are the main indicators of a show\n",
    "\n",
    "    \n"
   ]
  },
  {
   "cell_type": "code",
   "execution_count": 38,
   "id": "5f0f8823",
   "metadata": {},
   "outputs": [
    {
     "data": {
      "text/plain": [
       "0        True\n",
       "1        True\n",
       "2        True\n",
       "3        True\n",
       "4        True\n",
       "        ...  \n",
       "1967     True\n",
       "1968     True\n",
       "1969     True\n",
       "1970     True\n",
       "1971    False\n",
       "Name: Title, Length: 1972, dtype: bool"
      ]
     },
     "execution_count": 38,
     "metadata": {},
     "output_type": "execute_result"
    }
   ],
   "source": [
    "#STEP 1: IDENTIFY WHETHER EACH TITLE IS A TITLE/SHOW\n",
    "netflix_data[\"Title\"].apply(lambda title: \"Season\" in title or \"Chapter\" in title)"
   ]
  },
  {
   "cell_type": "code",
   "execution_count": 42,
   "id": "3c068c04",
   "metadata": {},
   "outputs": [
    {
     "data": {
      "text/plain": [
       "0.9031440162271805"
      ]
     },
     "execution_count": 42,
     "metadata": {},
     "output_type": "execute_result"
    }
   ],
   "source": [
    "#STEP 2: Compute proportion of Netflix of viewing spent on watching shows\n",
    "netflix_data[\"Title\"].apply(lambda title: \"Season\" in title or \"Chapter\" in title).sum()/len(netflix_data)\n"
   ]
  },
  {
   "cell_type": "code",
   "execution_count": 44,
   "id": "350ac6e8",
   "metadata": {},
   "outputs": [
    {
     "data": {
      "text/plain": [
       "90.31440162271805"
      ]
     },
     "execution_count": 44,
     "metadata": {},
     "output_type": "execute_result"
    }
   ],
   "source": [
    "#STEP 3: Convert proportion for shows to a percentage and save in a variable for convienience \n",
    "show_percentage = netflix_data[\"Title\"].apply(lambda title: \"Season\" in title or \"Chapter\" in title).sum()/len(netflix_data)*100\n",
    "show_percentage"
   ]
  },
  {
   "cell_type": "code",
   "execution_count": 45,
   "id": "55aa8b50",
   "metadata": {},
   "outputs": [
    {
     "data": {
      "text/plain": [
       "9.685598377281949"
      ]
     },
     "execution_count": 45,
     "metadata": {},
     "output_type": "execute_result"
    }
   ],
   "source": [
    "#STEP 4: Compute the % for movies and save in a variable for convinience\n",
    "100-show_percentage"
   ]
  },
  {
   "cell_type": "code",
   "execution_count": 27,
   "id": "f85dc63e",
   "metadata": {},
   "outputs": [],
   "source": [
    "# SAY YOU DON'T WANNA USE LAMBDA AND WANT TO SEPATELY DEFINE A FUNCTION THAT IDENTFIES  WHETHER  TITLE IS FROM A SHOW\n",
    "\n",
    "#define function\n",
    "def is_show(title):\n",
    " return \"Season\" in title or \"Chapter\" in title "
   ]
  },
  {
   "cell_type": "code",
   "execution_count": 31,
   "id": "5de54f16",
   "metadata": {},
   "outputs": [
    {
     "data": {
      "text/plain": [
       "0        True\n",
       "1        True\n",
       "2        True\n",
       "3        True\n",
       "4        True\n",
       "        ...  \n",
       "1967     True\n",
       "1968     True\n",
       "1969     True\n",
       "1970     True\n",
       "1971    False\n",
       "Name: Title, Length: 1972, dtype: bool"
      ]
     },
     "execution_count": 31,
     "metadata": {},
     "output_type": "execute_result"
    }
   ],
   "source": [
    "#test out function\n",
    "netflix_data [\"Title\"].apply(is_show)"
   ]
  },
  {
   "cell_type": "code",
   "execution_count": 1,
   "id": "f3f65c76",
   "metadata": {},
   "outputs": [],
   "source": [
    "def contains_keyword(value,keywords):\n",
    "    return any(keyword in value for keyword in keywords)\n",
    "\n"
   ]
  },
  {
   "cell_type": "code",
   "execution_count": 40,
   "id": "4642d68f",
   "metadata": {},
   "outputs": [
    {
     "data": {
      "text/plain": [
       "['Chapter', 'Season']"
      ]
     },
     "execution_count": 40,
     "metadata": {},
     "output_type": "execute_result"
    }
   ],
   "source": [
    "#Create a list  of keywords\n",
    "keywords = [\"Chapter\",\"Season\"]\n",
    "keywords"
   ]
  },
  {
   "cell_type": "code",
   "execution_count": 41,
   "id": "20cc84ba",
   "metadata": {},
   "outputs": [
    {
     "data": {
      "text/plain": [
       "0        True\n",
       "1        True\n",
       "2        True\n",
       "3        True\n",
       "4        True\n",
       "        ...  \n",
       "1967     True\n",
       "1968     True\n",
       "1969     True\n",
       "1970     True\n",
       "1971    False\n",
       "Name: Title, Length: 1972, dtype: bool"
      ]
     },
     "execution_count": 41,
     "metadata": {},
     "output_type": "execute_result"
    }
   ],
   "source": [
    "#test out function\n",
    "netflix_data[\"Title\"].apply(contains_keyword, args=(keywords,))"
   ]
  },
  {
   "cell_type": "code",
   "execution_count": null,
   "id": "4191049a",
   "metadata": {},
   "outputs": [],
   "source": []
  }
 ],
 "metadata": {
  "kernelspec": {
   "display_name": "Python 3 (ipykernel)",
   "language": "python",
   "name": "python3"
  },
  "language_info": {
   "codemirror_mode": {
    "name": "ipython",
    "version": 3
   },
   "file_extension": ".py",
   "mimetype": "text/x-python",
   "name": "python",
   "nbconvert_exporter": "python",
   "pygments_lexer": "ipython3",
   "version": "3.9.7"
  }
 },
 "nbformat": 4,
 "nbformat_minor": 5
}
