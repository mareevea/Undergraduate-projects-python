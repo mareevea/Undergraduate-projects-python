{
 "cells": [
  {
   "cell_type": "code",
   "execution_count": 30,
   "metadata": {},
   "outputs": [
    {
     "name": "stdout",
     "output_type": "stream",
     "text": [
      "The vapor pressure is: 1.73e+02 in mmHg\n"
     ]
    }
   ],
   "source": [
    "#6.3\n",
    "#THE VAPOR PRESSURE AT 45 DEGREE CELSIUS\n",
    "\n",
    "#logp* = A-B/(T+C)\n",
    "\n",
    "\n",
    "A = 8.11220\n",
    "B = 1592.864\n",
    "C = 226.184\n",
    "T = 45 # DEGREE CELSIUS\n",
    "p = 10**( A-(B/(T+C)))  \n",
    "\n",
    "\n",
    "\n",
    "        \n",
    "print('The vapor pressure is: {:.2e} in mmHg'.format(p))"
   ]
  },
  {
   "cell_type": "code",
   "execution_count": 31,
   "metadata": {},
   "outputs": [
    {
     "data": {
      "image/png": "[encoded data removed]",
      "text/plain": [
       "<Figure size 432x288 with 1 Axes>"
      ]
     },
     "metadata": {},
     "output_type": "display_data"
    },
    {
     "name": "stdout",
     "output_type": "stream",
     "text": [
      "[-5102.09695    21.15266]\n"
     ]
    }
   ],
   "source": [
    "#Clausis-Clapeyron method\n",
    "%matplotlib inline\n",
    "import numpy as np\n",
    "import matplotlib.pyplot as plt\n",
    "y1 = np.array([20,760])\n",
    "y = np.log (y1)\n",
    "x1 = np.array([8,78.4])\n",
    "x = (x1+273)**-1\n",
    "fig = plt.figure()\n",
    "plt.plot(x,y)\n",
    "plt.show()\n",
    "fit = np.polyfit(x,y,1)\n",
    "print(fit)"
   ]
  },
  {
   "cell_type": "code",
   "execution_count": 18,
   "metadata": {},
   "outputs": [
    {
     "name": "stdout",
     "output_type": "stream",
     "text": [
      "The vapor pressure is: 1.65e+02 in mmHg\n"
     ]
    }
   ],
   "source": [
    "# the equation is ln(p*) = -11154x +43\n",
    "#  The vapor pressure at 45 degree celsius is:\n",
    "import math\n",
    "n = -5102.09694893*x + 21.15266092 #where n= ln(p*) and x = (1/T)\n",
    "\n",
    "x = (45+273)**-1\n",
    "\n",
    "r = math.e**(n)\n",
    "print('The vapor pressure is: {:.2e} in mmHg'.format(r))\n"
   ]
  },
  {
   "cell_type": "code",
   "execution_count": 19,
   "metadata": {},
   "outputs": [
    {
     "name": "stdout",
     "output_type": "stream",
     "text": [
      "The vapor pressure is: 4.09e+02 in mmHg\n"
     ]
    }
   ],
   "source": [
    "#Linear interpolation\n",
    "# (78.4,760) and (8,20)\n",
    "#slope = CHANGE IN Y/ CHANGE IN X\n",
    "#      = (740/70.4)\n",
    "# (y - 20) = (740/70.4)(x-8)\n",
    "# at 45 degrees celsius\n",
    "\n",
    "x = 45\n",
    "y = 20+ (740/70.4)*(45-8)\n",
    "print ('The vapor pressure is: {:.2e} in mmHg'.format(y))\n"
   ]
  },
  {
   "cell_type": "code",
   "execution_count": 38,
   "metadata": {},
   "outputs": [
    {
     "name": "stdout",
     "output_type": "stream",
     "text": [
      " The percentage error is: 4.62e+00 in mmHg %\n"
     ]
    }
   ],
   "source": [
    "#%errors\n",
    "e = ((165-173)/-173)*100 #where e = %error using clausis-clapeyron relation\n",
    "print (' The percentage error is: {:.2e} in mmHg %'.format(e) )"
   ]
  },
  {
   "cell_type": "code",
   "execution_count": 29,
   "metadata": {},
   "outputs": [
    {
     "name": "stdout",
     "output_type": "stream",
     "text": [
      "The percentage error is: 136.4 % \n"
     ]
    }
   ],
   "source": [
    "f = ((409-173)/173)*100\n",
    "print ('The percentage error is: {:.1f} % '.format(f))"
   ]
  },
  {
   "cell_type": "code",
   "execution_count": 22,
   "metadata": {},
   "outputs": [
    {
     "name": "stdout",
     "output_type": "stream",
     "text": [
      "[0.00284 0.00264 0.00254 0.00241 0.00221 0.00213]\n"
     ]
    },
    {
     "data": {
      "image/png": "[encoded data removed]",
      "text/plain": [
       "<Figure size 432x288 with 1 Axes>"
      ]
     },
     "metadata": {},
     "output_type": "display_data"
    },
    {
     "name": "stdout",
     "output_type": "stream",
     "text": [
      "[-7068.8742     21.65717]\n"
     ]
    }
   ],
   "source": [
    "# 6.4\n",
    "%matplotlib inline \n",
    "import numpy as np\n",
    "import matplotlib.pyplot as plt\n",
    "y1 = np.array([5,20,40,100,400,760])\n",
    "y = np.log(y1)\n",
    "x1 = np.array([79.7,105.8,120,141.8,178.5,197.3])\n",
    "x = (x1+273)**-1\n",
    "print (x)\n",
    "fig = plt.figure()\n",
    "plt.plot(x,y)\n",
    "plt.show()\n",
    "fit = np.polyfit(x,y,1)\n",
    "print(fit)\n",
    "\n",
    "\n",
    "\n"
   ]
  },
  {
   "cell_type": "markdown",
   "metadata": {},
   "source": [
    " *ln(p*) = -7.07 x 10^3 *(1/T) + 21.7\n",
    " \n",
    " \n",
    "  "
   ]
  },
  {
   "cell_type": "code",
   "execution_count": 32,
   "metadata": {},
   "outputs": [
    {
     "name": "stdout",
     "output_type": "stream",
     "text": [
      "The heat of vaporisation is 5.88e+01  KJ/mol\n"
     ]
    }
   ],
   "source": [
    "#(Heat of vaporization)= 7068.87420389 * 8.314 J/mol*K\n",
    "#7068.87420389 * 8.314 J/mol*K\n",
    "s1 = (7068.87420389 * 8.314)\n",
    "s = s1/1000\n",
    "print ('The heat of vaporisation is {:.2e}  KJ/mol'.format(s) )"
   ]
  },
  {
   "cell_type": "code",
   "execution_count": 12,
   "metadata": {},
   "outputs": [
    {
     "name": "stdout",
     "output_type": "stream",
     "text": [
      "The values of the pressures are: in mmHg [  5.02785  20.00405  39.26008 101.04044 403.72915 754.91232]\n"
     ]
    }
   ],
   "source": [
    "#Clausius-Clapeyon equation\n",
    "#ln(p) = (-Hv)/R *(1/T) +B\n",
    "\n",
    "import numpy as np\n",
    "import math\n",
    "T1 = np.array([79.7,105.8,120,141.8,178.5,197.3])\n",
    "T = (T1+273)**-1\n",
    "S = -7068.87420389\n",
    "B = 21.65716551\n",
    "\n",
    "lnp= S*T + B\n",
    "\n",
    "a = np.exp(lnp)\n",
    "print ('The values of the pressures are: in mmHg',a)\n",
    "\n"
   ]
  },
  {
   "cell_type": "code",
   "execution_count": 14,
   "metadata": {},
   "outputs": [
    {
     "name": "stdout",
     "output_type": "stream",
     "text": [
      "The values of the pressures are, in mmHg, 5.03, 20.0, 39.3, 101,404, 755\n"
     ]
    }
   ],
   "source": [
    "print ('The values of the pressures are, in mmHg, 5.03, 20.0, 39.3, 101,404, 755')"
   ]
  },
  {
   "cell_type": "markdown",
   "metadata": {},
   "source": []
  },
  {
   "cell_type": "code",
   "execution_count": null,
   "metadata": {},
   "outputs": [],
   "source": []
  },
  {
   "cell_type": "code",
   "execution_count": 33,
   "metadata": {},
   "outputs": [
    {
     "name": "stdout",
     "output_type": "stream",
     "text": [
      "the dew point from table B.3The temperature is between two temperatures; 72 and 73 The average is: 72.5 degreed celsius \n"
     ]
    }
   ],
   "source": [
    "#6.14\n",
    "#a)\n",
    "#relative humidity = (partial pressure/vapor pressure)x100%\n",
    "#partial pressure = (RH X vapor pressure)/100\n",
    "p1 = 525.75 # vapor at 90 degrees celsius\n",
    "p = (50/100) * p1\n",
    "#dew point is the temperature where partial pressure is in equilibrium with the liquid\n",
    "print ('the dew point from table B.3The temperature is between two temperatures; 72 and 73 The average is: 72.5 degreed celsius ')"
   ]
  },
  {
   "cell_type": "markdown",
   "metadata": {},
   "source": [
    "Degrees of superheated is\n",
    "90 - 72.5\n",
    "= 17.5"
   ]
  },
  {
   "cell_type": "markdown",
   "metadata": {},
   "source": [
    " The total moles available\n",
    "moles = (v/vs)*(Ts/T) * (P/Ps)\n",
    " "
   ]
  },
  {
   "cell_type": "code",
   "execution_count": 34,
   "metadata": {},
   "outputs": [
    {
     "name": "stdout",
     "output_type": "stream",
     "text": [
      "The value of the moles condensed is1.06e+01\n"
     ]
    }
   ],
   "source": [
    "v = 1 # m^3\n",
    "vs =  22.4 #moles/L\n",
    "P = 1 #atm\n",
    "Ps = 1 #atm\n",
    "T = 90 +273 # K\n",
    "Ts = 273 #k\n",
    "n = (v/vs)* (Ts/T) \n",
    " # kmoles of air and water in air\n",
    "\n",
    "#Moles of water at 90 degrees\n",
    "#From raoult's law\n",
    "\n",
    "p1 = 262.88 #mmHg #partial pressure\n",
    "p = 760 # mmHg\n",
    "y = p1/p\n",
    "\n",
    "\n",
    "#Moles of water at 25 degrees\n",
    "p2 = 23.756/760\n",
    "\n",
    "\n",
    "#moles condensed\n",
    "m = y-p2\n",
    "wc = (m*n)*1000\n",
    "print ('The value of the moles condensed is{:.2e}'. format(wc))"
   ]
  },
  {
   "cell_type": "code",
   "execution_count": 35,
   "metadata": {},
   "outputs": [
    {
     "name": "stdout",
     "output_type": "stream",
     "text": [
      "The pressure is 1.52e+03: mmHg\n"
     ]
    }
   ],
   "source": [
    "#FROM RAOULT'S LAW\n",
    "p3 = 525.75\n",
    "x = (262.88/760)\n",
    "p = p3/x\n",
    "print ('The pressure is {:.2e}: mmHg'.format(p))"
   ]
  },
  {
   "cell_type": "code",
   "execution_count": null,
   "metadata": {},
   "outputs": [],
   "source": []
  }
 ],
 "metadata": {
  "kernelspec": {
   "display_name": "Python 3 (ipykernel)",
   "language": "python",
   "name": "python3"
  },
  "language_info": {
   "codemirror_mode": {
    "name": "ipython",
    "version": 3
   },
   "file_extension": ".py",
   "mimetype": "text/x-python",
   "name": "python",
   "nbconvert_exporter": "python",
   "pygments_lexer": "ipython3",
   "version": "3.9.7"
  }
 },
 "nbformat": 4,
 "nbformat_minor": 2
}
